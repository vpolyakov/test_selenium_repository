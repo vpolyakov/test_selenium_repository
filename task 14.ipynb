{
 "cells": [
  {
   "cell_type": "code",
   "execution_count": 1,
   "metadata": {},
   "outputs": [],
   "source": [
    "from selenium import webdriver\n",
    "from selenium.webdriver.support.wait import WebDriverWait\n",
    "\n",
    "\n",
    "driver = webdriver.Chrome()\n",
    "driver.get(\"http://localhost/litecart/admin/?app=countries&doc=countries\")\n",
    "wait = WebDriverWait(driver, 10)\n",
    "\n",
    "driver.find_element_by_name(\"username\").send_keys(\"admin\")\n",
    "driver.find_element_by_name(\"password\").send_keys(\"admin\")\n",
    "driver.find_element_by_name(\"login\").click()\n",
    "\n",
    "driver.find_element_by_css_selector(\".button\").click()\n",
    "\n",
    "\n",
    "def any_window_other_than(old_windows):\n",
    "    def wrapper(d):\n",
    "        print(\"old windows\", old_windows)\n",
    "        handles = set(d.window_handles) - set(old_windows)\n",
    "        print(\"new windows\", d.window_handles)\n",
    "        print(\"diff:\", handles)\n",
    "        if len(handles) > 0:\n",
    "            return list(handles)[0]\n",
    "        else:\n",
    "            return False\n",
    "    return wrapper\n",
    "\n",
    "\n",
    "main_win = driver.current_window_handle\n",
    "all_old_win = driver.window_handles"
   ]
  },
  {
   "cell_type": "code",
   "execution_count": 2,
   "metadata": {},
   "outputs": [
    {
     "data": {
      "text/plain": [
       "'CDwindow-BD03506BB0F07951886A50CDDECB0662'"
      ]
     },
     "execution_count": 2,
     "metadata": {},
     "output_type": "execute_result"
    }
   ],
   "source": [
    "main_win"
   ]
  },
  {
   "cell_type": "code",
   "execution_count": 3,
   "metadata": {},
   "outputs": [
    {
     "data": {
      "text/plain": [
       "['CDwindow-BD03506BB0F07951886A50CDDECB0662']"
      ]
     },
     "execution_count": 3,
     "metadata": {},
     "output_type": "execute_result"
    }
   ],
   "source": [
    "all_old_win"
   ]
  },
  {
   "cell_type": "code",
   "execution_count": 4,
   "metadata": {},
   "outputs": [],
   "source": [
    "driver.find_element_by_css_selector(\"#content table [target=_blank]\").click()"
   ]
  },
  {
   "cell_type": "code",
   "execution_count": 5,
   "metadata": {},
   "outputs": [
    {
     "data": {
      "text/plain": [
       "<function __main__.any_window_other_than.<locals>.wrapper(d)>"
      ]
     },
     "execution_count": 5,
     "metadata": {},
     "output_type": "execute_result"
    }
   ],
   "source": [
    "f = any_window_other_than(all_old_win)\n",
    "f"
   ]
  },
  {
   "cell_type": "code",
   "execution_count": 6,
   "metadata": {},
   "outputs": [
    {
     "name": "stdout",
     "output_type": "stream",
     "text": [
      "old windows ['CDwindow-BD03506BB0F07951886A50CDDECB0662']\n",
      "new windows ['CDwindow-BD03506BB0F07951886A50CDDECB0662', 'CDwindow-B793E3F7250F65D6067FD15EF56A50F1']\n",
      "diff: {'CDwindow-B793E3F7250F65D6067FD15EF56A50F1'}\n"
     ]
    },
    {
     "data": {
      "text/plain": [
       "'CDwindow-B793E3F7250F65D6067FD15EF56A50F1'"
      ]
     },
     "execution_count": 6,
     "metadata": {},
     "output_type": "execute_result"
    }
   ],
   "source": [
    "new_window = f(driver)\n",
    "new_window"
   ]
  },
  {
   "cell_type": "code",
   "execution_count": 7,
   "metadata": {},
   "outputs": [],
   "source": [
    "driver.switch_to.window(new_window)"
   ]
  },
  {
   "cell_type": "code",
   "execution_count": 8,
   "metadata": {},
   "outputs": [],
   "source": [
    "driver.close()"
   ]
  },
  {
   "cell_type": "code",
   "execution_count": 9,
   "metadata": {},
   "outputs": [],
   "source": [
    "driver.switch_to.window(main_win)"
   ]
  },
  {
   "cell_type": "code",
   "execution_count": 10,
   "metadata": {},
   "outputs": [],
   "source": [
    "driver.execute_script(\"window.open()\")"
   ]
  },
  {
   "cell_type": "code",
   "execution_count": 11,
   "metadata": {},
   "outputs": [],
   "source": [
    "driver.close()"
   ]
  },
  {
   "cell_type": "code",
   "execution_count": 12,
   "metadata": {},
   "outputs": [
    {
     "data": {
      "text/plain": [
       "['CDwindow-EF681FEFA37BFBAE0D0C4F8809BA3079']"
      ]
     },
     "execution_count": 12,
     "metadata": {},
     "output_type": "execute_result"
    }
   ],
   "source": [
    "driver.window_handles"
   ]
  },
  {
   "cell_type": "code",
   "execution_count": 13,
   "metadata": {},
   "outputs": [],
   "source": [
    "driver.switch_to_window('CDwindow-EF681FEFA37BFBAE0D0C4F8809BA3079')"
   ]
  },
  {
   "cell_type": "code",
   "execution_count": 14,
   "metadata": {},
   "outputs": [],
   "source": [
    "driver.close()"
   ]
  },
  {
   "cell_type": "code",
   "execution_count": 15,
   "metadata": {},
   "outputs": [],
   "source": [
    "driver.quit()"
   ]
  },
  {
   "cell_type": "code",
   "execution_count": null,
   "metadata": {},
   "outputs": [],
   "source": [
    "# driver.find_element_by_css_selector(\"#content table [target=_blank]\").click()\n",
    "for i in range(len(driver.find_elements_by_css_selector(\"#content table [target=_blank]\"))):\n",
    "    all_old_win = driver.window_handles\n",
    "    driver.find_elements_by_css_selector(\"#content table [target=_blank]\")[i].click()\n",
    "    new_window = wait.until(any_window_other_than(all_old_win))\n",
    "\n",
    "    # handles = set(driver.window_handles) - set(all_old_win)\n",
    "    # if len(handles) > 0:\n",
    "    #     driver.switch_to.window(list(handles)[0])\n",
    "    #     driver.close()\n",
    "    #     driver.switch_to.window(main_win)\n",
    "\n",
    "    driver.switch_to.window(new_window)\n",
    "    driver.close()\n",
    "    driver.switch_to.window(main_win)"
   ]
  }
 ],
 "metadata": {
  "kernelspec": {
   "display_name": "Python 3",
   "language": "python",
   "name": "python3"
  },
  "language_info": {
   "codemirror_mode": {
    "name": "ipython",
    "version": 3
   },
   "file_extension": ".py",
   "mimetype": "text/x-python",
   "name": "python",
   "nbconvert_exporter": "python",
   "pygments_lexer": "ipython3",
   "version": "3.6.6"
  }
 },
 "nbformat": 4,
 "nbformat_minor": 2
}
